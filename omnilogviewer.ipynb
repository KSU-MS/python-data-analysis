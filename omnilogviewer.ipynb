{
 "cells": [
  {
   "cell_type": "code",
   "execution_count": 3,
   "metadata": {},
   "outputs": [],
   "source": [
    "import pandas as pd\n",
    "import os"
   ]
  },
  {
   "cell_type": "code",
   "execution_count": 7,
   "metadata": {},
   "outputs": [
    {
     "data": {
      "text/plain": [
       "['Output',\n",
       " 'Steering Value',\n",
       " ' Accel-X',\n",
       " ' Accel-Y',\n",
       " ' Accel-Z',\n",
       " ' Mag-X',\n",
       " ' Mag-Y',\n",
       " ' Mag-Z',\n",
       " ' Gyro-X',\n",
       " ' Gyro-Y',\n",
       " ' Gyro-Z',\n",
       " ' ShockFL',\n",
       " ' ShockFR',\n",
       " ' ShockRL',\n",
       " ' ShockRR']"
      ]
     },
     "execution_count": 7,
     "metadata": {},
     "output_type": "execute_result"
    }
   ],
   "source": [
    "folder = r\"C:\\Users\\Matthew Samson\\Downloads\\OneDrive_1_3-27-2024\\8-23-23 IC\\1.drive down and some breaks test\"\n",
    "df_list = []\n",
    "for filename in os.listdir(folder):\n",
    "        if filename.endswith('.csv') or filename.endswith('.CSV'):\n",
    "            file_path = os.path.join(folder, filename)\n",
    "            df = pd.read_csv(file_path, index_col='Time')\n",
    "            df_list.append(df)\n",
    "\n",
    "logs = pd.concat(df_list)\n",
    "list(logs)"
   ]
  },
  {
   "cell_type": "code",
   "execution_count": null,
   "metadata": {},
   "outputs": [],
   "source": [
    "runs_dfs = []\n",
    "logs['time_groups'] = (\n",
    "    logs.index.to_series().diff().dt.seconds > 1).cumsum()\n",
    "\n",
    "for ct, data in logs.groupby('time_groups'):\n",
    "    # if data['D1_Commanded_Torque'].max() < 200:\n",
    "    #     continue\n",
    "    # if data['D2_Motor_Speed'].min() > 500:\n",
    "    #     continue\n",
    "    data['AbsoluteTime'] = (data.index - data.index.min()).total_seconds()\n",
    "    data.set_index('AbsoluteTime', inplace=True)\n",
    "\n",
    "    runs_dfs.append(data)\n",
    "for index,run_data in enumerate(runs_dfs):\n",
    "    plt.scatter(run_data.index,run_data['D2_Motor_Speed'],marker='.',label='rpm')\n",
    "    plt.scatter(run_data.index,run_data['D1_Commanded_Torque'],marker='.',label='torque')\n",
    "    plt.title(f\"Index: {index}\")\n",
    "    plt.legend()\n",
    "    plt.show()"
   ]
  }
 ],
 "metadata": {
  "kernelspec": {
   "display_name": "venv",
   "language": "python",
   "name": "python3"
  },
  "language_info": {
   "codemirror_mode": {
    "name": "ipython",
    "version": 3
   },
   "file_extension": ".py",
   "mimetype": "text/x-python",
   "name": "python",
   "nbconvert_exporter": "python",
   "pygments_lexer": "ipython3",
   "version": "3.8.0"
  }
 },
 "nbformat": 4,
 "nbformat_minor": 2
}
